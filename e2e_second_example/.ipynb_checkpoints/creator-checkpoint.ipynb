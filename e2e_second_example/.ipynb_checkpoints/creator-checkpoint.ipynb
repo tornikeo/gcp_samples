{
 "cells": [
  {
   "cell_type": "code",
   "execution_count": 1,
   "id": "771554d3",
   "metadata": {},
   "outputs": [],
   "source": [
    "import os"
   ]
  },
  {
   "cell_type": "code",
   "execution_count": 2,
   "id": "30910cd6",
   "metadata": {},
   "outputs": [],
   "source": [
    "os.makedirs('trainer',exist_ok=True)"
   ]
  },
  {
   "cell_type": "code",
   "execution_count": 3,
   "id": "0f5d3c27",
   "metadata": {},
   "outputs": [
    {
     "name": "stdout",
     "output_type": "stream",
     "text": [
      "Writing trainer/__init__.py\n"
     ]
    }
   ],
   "source": [
    "%%writefile trainer/__init__.py\n",
    "pass"
   ]
  },
  {
   "cell_type": "code",
   "execution_count": 124,
   "id": "c9de3010",
   "metadata": {},
   "outputs": [
    {
     "name": "stdout",
     "output_type": "stream",
     "text": [
      "Overwriting trainer/task.py\n"
     ]
    }
   ],
   "source": [
    "%%writefile trainer/task.py\n",
    "import tensorflow as tf\n",
    "\n",
    "def get_data():\n",
    "    x = tf.random.normal((100,10))\n",
    "    y = tf.reduce_mean(x, axis=1)\n",
    "    return x,y\n",
    "\n",
    "def main():\n",
    "    model = tf.keras.Sequential([\n",
    "        tf.keras.layers.Dense(1)\n",
    "    ])\n",
    "    x, y = get_data()\n",
    "    model.compile(loss='mse')\n",
    "    model.fit(x, y)\n",
    "    \n",
    "    @tf.function(\n",
    "        input_signature=[\n",
    "            tf.TensorSpec((None, 10), tf.float32),\n",
    "            tf.TensorSpec((None,),tf.string),\n",
    "        ]\n",
    "    )\n",
    "    def serve(row, key):\n",
    "        tf.print(row)\n",
    "        output = model(row)\n",
    "        return {\"output\":output, \n",
    "                'key':key}\n",
    "    \n",
    "    tf.saved_model.save(model, \n",
    "                        'output', \n",
    "                        signatures=serve)\n",
    "    model.save('output_keras', \n",
    "               save_format='tf',\n",
    "               signatures=serve)\n",
    "    \n",
    "if __name__ == '__main__':\n",
    "    main()"
   ]
  },
  {
   "cell_type": "code",
   "execution_count": 125,
   "id": "457115d7",
   "metadata": {},
   "outputs": [
    {
     "name": "stdout",
     "output_type": "stream",
     "text": [
      "2021-07-26 18:05:18.476819: I tensorflow/core/common_runtime/process_util.cc:146] Creating new thread pool with default inter op setting: 2. Tune using inter_op_parallelism_threads for best performance.\n",
      "2021-07-26 18:05:18.841424: I tensorflow/compiler/mlir/mlir_graph_optimization_pass.cc:176] None of the MLIR Optimization Passes are enabled (registered 2)\n",
      "2021-07-26 18:05:18.841973: I tensorflow/core/platform/profile_utils/cpu_utils.cc:114] CPU Frequency: 2200210000 Hz\n",
      "4/4 [==============================] - 0s 6ms/step - loss: 1.8491\n",
      "2021-07-26 18:05:19.594259: W tensorflow/python/util/util.cc:348] Sets are not currently considered sequences, but this may change in the future, so consider avoiding using them.\n",
      "WARNING:tensorflow:FOR KERAS USERS: The object that you are saving contains one or more Keras models or layers. If you are loading the SavedModel with `tf.keras.models.load_model`, continue reading (otherwise, you may ignore the following instructions). Please change your code to save with `tf.keras.models.save_model` or `model.save`, and confirm that the file \"keras.metadata\" exists in the export directory. In the future, Keras will only load the SavedModels that have this file. In other words, `tf.saved_model.save` will no longer write SavedModels that can be recovered as Keras models (this will apply in TF 2.5).\n",
      "\n",
      "FOR DEVS: If you are overwriting _tracking_metadata in your class, this property has been used to save metadata in the SavedModel. The metadta field will be deprecated soon, so please move the metadata to a different file.\n"
     ]
    }
   ],
   "source": [
    "!gcloud ai-platform local train \\\n",
    "    --module-name trainer.task \\\n",
    "    --package-path trainer"
   ]
  },
  {
   "cell_type": "code",
   "execution_count": 80,
   "id": "0ce53d5b",
   "metadata": {},
   "outputs": [],
   "source": [
    "from trainer.task import get_data\n",
    "import numpy as np\n",
    "\n",
    "x,y = get_data()\n",
    "# np.savetxt('x_input.txt', x, fmt='%1.2f', delimiter=',')"
   ]
  },
  {
   "cell_type": "code",
   "execution_count": 88,
   "id": "9404f9a7",
   "metadata": {},
   "outputs": [],
   "source": [
    "import json\n",
    "\n",
    "with open('x_input.json', 'w') as file:\n",
    "    for row in x.numpy().tolist():\n",
    "        row = {'row':row,'key':'abcd'}\n",
    "        json.dump(row, file)\n",
    "        file.write('\\n')"
   ]
  },
  {
   "cell_type": "code",
   "execution_count": 82,
   "id": "d2b32cd4",
   "metadata": {},
   "outputs": [
    {
     "name": "stdout",
     "output_type": "stream",
     "text": [
      "{\"row\": [2.0205397605895996, 0.30129051208496094, -0.6299737095832825, -0.6434333920478821, -0.18232782185077667, -0.3856940269470215, -0.47988927364349365, 0.5490532517433167, 0.07754470407962799, -0.7631400227546692], \"key\": \"abcd\"}\n",
      "{\"row\": [1.1219326257705688, -0.2526119351387024, -1.098629117012024, -0.8790395855903625, 1.6395599842071533, -0.7774794101715088, 1.1144843101501465, 0.5049614906311035, 1.078256368637085, 0.0821237862110138], \"key\": \"abcd\"}\n",
      "{\"row\": [-1.4933799505233765, 0.33484432101249695, 0.37655165791511536, 0.9314137697219849, -0.19719268381595612, -0.9057102203369141, 0.5763335824012756, -1.8166954517364502, 0.5443964004516602, 0.80682772397995], \"key\": \"abcd\"}\n",
      "{\"row\": [1.220592975616455, 0.6809594035148621, 1.701371192932129, 0.6427242159843445, -0.01719093881547451, -0.6174477934837341, 1.5334807634353638, 1.668959379196167, -0.36038684844970703, 1.3491692543029785], \"key\": \"abcd\"}\n",
      "{\"row\": [1.0706177949905396, -0.2721668779850006, -0.023573199287056923, 0.4839497208595276, -0.060599032789468765, 2.3496639728546143, -2.287350654602051, 0.8850914835929871, -0.6953284740447998, -0.5977349281311035], \"key\": \"abcd\"}\n",
      "{\"row\": [0.5662563443183899, 0.41801828145980835, 2.541214942932129, -1.181758999824524, -0.015509485267102718, -0.3109825551509857, -1.5066797733306885, 0.015621638856828213, 0.14952871203422546, 0.28585076332092285], \"key\": \"abcd\"}\n",
      "{\"row\": [-0.9764633178710938, 1.7765471935272217, 0.3101879358291626, 0.8223094940185547, -1.2471970319747925, 0.6521468758583069, -2.507951498031616, -2.0117833614349365, -0.19155587255954742, -0.8985263109207153], \"key\": \"abcd\"}\n",
      "{\"row\": [-0.37540993094444275, -0.6341272592544556, 0.11499247699975967, -0.951056182384491, 0.5560492277145386, 0.5787023901939392, 0.6438848972320557, 1.0971462726593018, 0.3822113275527954, 2.190201997756958], \"key\": \"abcd\"}\n",
      "{\"row\": [-0.18862468004226685, -1.0189709663391113, 0.3072780668735504, 0.3214154541492462, 0.30590206384658813, 0.43023839592933655, 0.9783320426940918, -2.0545284748077393, -0.03682384267449379, -0.5039623975753784], \"key\": \"abcd\"}\n",
      "{\"row\": [0.48474010825157166, -0.19696180522441864, -0.09983503073453903, -0.15575455129146576, -0.8970498442649841, -0.11657630652189255, -1.0469532012939453, -0.392864465713501, 0.25900721549987793, -0.2868040204048157], \"key\": \"abcd\"}\n"
     ]
    }
   ],
   "source": [
    "!head x_input.json"
   ]
  },
  {
   "cell_type": "code",
   "execution_count": 89,
   "id": "fe60aec9",
   "metadata": {},
   "outputs": [
    {
     "name": "stdout",
     "output_type": "stream",
     "text": [
      "If the signature defined in the model is not serving_default then you must specify it via --signature-name flag, otherwise the command may fail.\n",
      "\u001b[1;33mWARNING:\u001b[0m WARNING:tensorflow:From /opt/conda/lib/python3.7/site-packages/tensorflow/python/compat/v2_compat.py:96: disable_resource_variables (from tensorflow.python.ops.variable_scope) is deprecated and will be removed in a future version.\n",
      "Instructions for updating:\n",
      "non-resource variables are not supported in the long term\n",
      "2021-07-26 17:23:05.199055: I tensorflow/core/common_runtime/process_util.cc:146] Creating new thread pool with default inter op setting: 2. Tune using inter_op_parallelism_threads for best performance.\n",
      "WARNING:tensorflow:From /usr/lib/google-cloud-sdk/lib/third_party/ml_sdk/cloud/ml/prediction/frameworks/tf_prediction_lib.py:236: load (from tensorflow.python.saved_model.loader_impl) is deprecated and will be removed in a future version.\n",
      "Instructions for updating:\n",
      "This function will only be available through the v1 compatibility library as tf.compat.v1.saved_model.loader.load or tf.compat.v1.saved_model.load. There will be a new function for importing SavedModels in Tensorflow 2.0.\n",
      "WARNING:tensorflow:From /usr/lib/google-cloud-sdk/lib/third_party/ml_sdk/cloud/ml/prediction/frameworks/tf_prediction_lib.py:236: load (from tensorflow.python.saved_model.loader_impl) is deprecated and will be removed in a future version.\n",
      "Instructions for updating:\n",
      "This function will only be available through the v1 compatibility library as tf.compat.v1.saved_model.loader.load or tf.compat.v1.saved_model.load. There will be a new function for importing SavedModels in Tensorflow 2.0.\n",
      "2021-07-26 17:23:05.233849: I tensorflow/core/platform/profile_utils/cpu_utils.cc:114] CPU Frequency: 2200210000 Hz\n",
      "WARNING:root:Error updating signature __saved_model_init_op: The name 'NoOp' refers to an Operation, not a Tensor. Tensor names must be of the form \"<op_name>:<output_index>\".\n",
      "[[2.02053976 0.301290512 -0.62997371 ... 0.549053252 0.0775447041 -0.76314]\n",
      " [1.12193263 -0.252611935 -1.09862912 ... 0.504961491 1.07825637 0.0821237862]\n",
      " [-1.49338 0.334844321 0.376551658 ... -1.81669545 0.5443964 0.806827724]\n",
      " ...\n",
      " [0.426676363 -0.685582638 0.23970291 ... 0.466869712 -0.176159456 0.934742868]\n",
      " [-0.788395643 1.36058 0.479795039 ... -1.27860403 0.729973555 0.297567278]\n",
      " [-0.216759831 0.370054454 0.336397111 ... 0.725647 0.986607969 -0.778251648]]\n",
      "\n",
      "KEY   OUTPUT\n",
      "abcd  [-0.09451786428689957]\n",
      "abcd  [0.5488596558570862]\n",
      "abcd  [0.7478816509246826]\n",
      "abcd  [1.9297816753387451]\n",
      "abcd  [-1.136452078819275]\n",
      "abcd  [1.3425768613815308]\n",
      "abcd  [0.14193126559257507]\n",
      "abcd  [0.048963867127895355]\n",
      "abcd  [-0.9918594360351562]\n",
      "abcd  [-0.6848335266113281]\n",
      "abcd  [-1.7841706275939941]\n",
      "abcd  [-2.088534116744995]\n",
      "abcd  [0.6533175110816956]\n",
      "abcd  [0.31091466546058655]\n",
      "abcd  [0.7064952254295349]\n",
      "abcd  [-1.5869970321655273]\n",
      "abcd  [0.8312166929244995]\n",
      "abcd  [-1.039821743965149]\n",
      "abcd  [-1.5213040113449097]\n",
      "abcd  [0.03923041373491287]\n",
      "abcd  [0.7589321732521057]\n",
      "abcd  [-0.8205893039703369]\n",
      "abcd  [-0.7527841925621033]\n",
      "abcd  [0.24891811609268188]\n",
      "abcd  [-0.05359829217195511]\n",
      "abcd  [-1.226963996887207]\n",
      "abcd  [-0.9166204333305359]\n",
      "abcd  [0.7729188203811646]\n",
      "abcd  [1.7962956428527832]\n",
      "abcd  [0.6558986902236938]\n",
      "abcd  [0.41889941692352295]\n",
      "abcd  [-0.16152116656303406]\n",
      "abcd  [-0.7690393924713135]\n",
      "abcd  [1.1555285453796387]\n",
      "abcd  [-0.4373766779899597]\n",
      "abcd  [0.5160912275314331]\n",
      "abcd  [-1.1773380041122437]\n",
      "abcd  [0.06404244154691696]\n",
      "abcd  [-0.7272895574569702]\n",
      "abcd  [1.6210780143737793]\n",
      "abcd  [0.503900408744812]\n",
      "abcd  [1.0830124616622925]\n",
      "abcd  [0.5570659041404724]\n",
      "abcd  [0.678565263748169]\n",
      "abcd  [-0.37741655111312866]\n",
      "abcd  [-1.3050587177276611]\n",
      "abcd  [-1.637385606765747]\n",
      "abcd  [-0.21063575148582458]\n",
      "abcd  [1.6208834648132324]\n",
      "abcd  [0.20664238929748535]\n",
      "abcd  [1.1765927076339722]\n",
      "abcd  [0.6744744777679443]\n",
      "abcd  [-0.22718843817710876]\n",
      "abcd  [-2.95013689994812]\n",
      "abcd  [0.13051605224609375]\n",
      "abcd  [-1.0990408658981323]\n",
      "abcd  [-0.8546596169471741]\n",
      "abcd  [0.5365737080574036]\n",
      "abcd  [0.8138368129730225]\n",
      "abcd  [-0.4639584422111511]\n",
      "abcd  [1.1540852785110474]\n",
      "abcd  [-1.9022027254104614]\n",
      "abcd  [1.100504755973816]\n",
      "abcd  [0.16102999448776245]\n",
      "abcd  [-0.42367467284202576]\n",
      "abcd  [-0.7334650158882141]\n",
      "abcd  [0.10599813610315323]\n",
      "abcd  [0.9441225528717041]\n",
      "abcd  [0.5141157507896423]\n",
      "abcd  [1.6803147792816162]\n",
      "abcd  [-0.49322962760925293]\n",
      "abcd  [-0.08528853207826614]\n",
      "abcd  [-1.1935505867004395]\n",
      "abcd  [-1.1116838455200195]\n",
      "abcd  [0.8900734186172485]\n",
      "abcd  [-0.7363771200180054]\n",
      "abcd  [1.26090407371521]\n",
      "abcd  [0.12452388554811478]\n",
      "abcd  [-0.4614877700805664]\n",
      "abcd  [0.22473418712615967]\n",
      "abcd  [1.431951642036438]\n",
      "abcd  [1.5388832092285156]\n",
      "abcd  [2.138967275619507]\n",
      "abcd  [-1.8921778202056885]\n",
      "abcd  [-0.47822320461273193]\n",
      "abcd  [0.37132930755615234]\n",
      "abcd  [-0.3068034052848816]\n",
      "abcd  [1.2208822965621948]\n",
      "abcd  [-0.49907875061035156]\n",
      "abcd  [0.17387139797210693]\n",
      "abcd  [0.4635465145111084]\n",
      "abcd  [0.6509668231010437]\n",
      "abcd  [0.1143716424703598]\n",
      "abcd  [0.8764979839324951]\n",
      "abcd  [0.6028882265090942]\n",
      "abcd  [-0.8529970645904541]\n",
      "abcd  [0.3373936116695404]\n",
      "abcd  [1.0140609741210938]\n",
      "abcd  [1.4978513717651367]\n",
      "abcd  [1.5918160676956177]\n"
     ]
    }
   ],
   "source": [
    "!gcloud ai-platform local predict \\\n",
    "    --model-dir output \\\n",
    "    --json-instances x_input.json"
   ]
  },
  {
   "cell_type": "code",
   "execution_count": 95,
   "id": "64f2e2c2",
   "metadata": {},
   "outputs": [],
   "source": [
    "# model = tf.saved_model.load('output')\n",
    "# model = model.signatures['serving_default']\n",
    "# model(row=tf.random.normal((100,10)), \n",
    "#       key=tf.constant(('hey','you'))\n",
    "#      )\n",
    "## Error somewhere"
   ]
  },
  {
   "cell_type": "code",
   "execution_count": 98,
   "id": "28c8ab34",
   "metadata": {},
   "outputs": [],
   "source": [
    "!export BUCKET_NAME='123'"
   ]
  },
  {
   "cell_type": "code",
   "execution_count": 103,
   "id": "96686040",
   "metadata": {},
   "outputs": [],
   "source": [
    "os.environ['BUCKET_NAME'] = 'ultra-evening-318614-aiplatform'\n",
    "os.environ['REGION'] = 'us-central1'\n",
    "os.environ[\"TFVERSION\"] = \"2.1\"\n",
    "os.environ[\"PYTHONVERSION\"] = \"3.7\""
   ]
  },
  {
   "cell_type": "code",
   "execution_count": 104,
   "id": "2bf906e5",
   "metadata": {},
   "outputs": [
    {
     "name": "stdout",
     "output_type": "stream",
     "text": [
      "Creating gs://ultra-evening-318614-aiplatform/...\n",
      "ServiceException: 409 A Cloud Storage bucket named 'ultra-evening-318614-aiplatform' already exists. Try another name. Bucket names must be globally unique across all Google Cloud projects, including those outside of your organization.\n"
     ]
    }
   ],
   "source": [
    "!gsutil mb -l ${REGION} gs://${BUCKET_NAME}"
   ]
  },
  {
   "cell_type": "code",
   "execution_count": 107,
   "id": "f51baa86",
   "metadata": {},
   "outputs": [
    {
     "name": "stdout",
     "output_type": "stream",
     "text": [
      "Copying file://x_input.json [Content-Type=application/json]...\n",
      "/ [1 files][ 22.6 KiB/ 22.6 KiB]                                                \n",
      "Operation completed over 1 objects/22.6 KiB.                                     \n"
     ]
    }
   ],
   "source": [
    "# !gsutil ls gs://${BUCKET_NAME}\n",
    "!gsutil cp x_input.json gs://${BUCKET_NAME}/data/x_input.json"
   ]
  },
  {
   "cell_type": "code",
   "execution_count": 109,
   "id": "42543c34",
   "metadata": {},
   "outputs": [],
   "source": [
    "from datetime import datetime\n",
    "\n",
    "os.environ['JOB_ID'] = 'simple_'+datetime.now().strftime('%Y%m%d%H%M%S')"
   ]
  },
  {
   "cell_type": "code",
   "execution_count": 114,
   "id": "62e4c365",
   "metadata": {},
   "outputs": [
    {
     "name": "stdout",
     "output_type": "stream",
     "text": [
      "jobId: simple_20210726173544\n",
      "state: QUEUED\n"
     ]
    },
    {
     "name": "stderr",
     "output_type": "stream",
     "text": [
      "Job [simple_20210726173544] submitted successfully.\n",
      "Your job is still active. You may view the status of your job with the command\n",
      "\n",
      "  $ gcloud ai-platform jobs describe simple_20210726173544\n",
      "\n",
      "or continue streaming the logs with the command\n",
      "\n",
      "  $ gcloud ai-platform jobs stream-logs simple_20210726173544\n"
     ]
    }
   ],
   "source": [
    "%%bash\n",
    "\n",
    "OUTPUT_PATH=gs://$BUCKET_NAME/$JOB_ID\n",
    "gcloud ai-platform jobs submit training $JOB_ID \\\n",
    "    --job-dir $OUTPUT_PATH \\\n",
    "    --runtime-version $TFVERSION \\\n",
    "    --python-version $PYTHONVERSION \\\n",
    "    --module-name trainer.task \\\n",
    "    --package-path trainer \\\n",
    "    --region $REGION"
   ]
  },
  {
   "cell_type": "code",
   "execution_count": 121,
   "id": "5c933b51",
   "metadata": {},
   "outputs": [
    {
     "name": "stdout",
     "output_type": "stream",
     "text": [
      "createTime: '2021-07-26T17:39:43Z'\n",
      "endTime: '2021-07-26T17:42:59Z'\n",
      "etag: wxgGaNWWVSI=\n",
      "jobId: simple_20210726173544\n",
      "startTime: '2021-07-26T17:40:27Z'\n",
      "state: SUCCEEDED\n",
      "trainingInput:\n",
      "  jobDir: gs://ultra-evening-318614-aiplatform/simple_20210726173544\n",
      "  packageUris:\n",
      "  - gs://ultra-evening-318614-aiplatform/simple_20210726173544/packages/09d145938aea37247d6b3585292c6433b0ea50571e492d4a70db96b0aefb5c17/trainer-0.0.0.tar.gz\n",
      "  pythonModule: trainer.task\n",
      "  pythonVersion: '3.7'\n",
      "  region: us-central1\n",
      "  runtimeVersion: '2.1'\n",
      "trainingOutput:\n",
      "  consumedMLUnits: 0.06\n",
      "\n",
      "View job in the Cloud Console at:\n",
      "https://console.cloud.google.com/mlengine/jobs/simple_20210726173544?project=ultra-evening-318614\n",
      "\n",
      "View logs at:\n",
      "https://console.cloud.google.com/logs?resource=ml_job%2Fjob_id%2Fsimple_20210726173544&project=ultra-evening-318614\n"
     ]
    }
   ],
   "source": [
    "!gcloud ai-platform jobs describe simple_20210726173544"
   ]
  },
  {
   "cell_type": "code",
   "execution_count": 118,
   "id": "9504ffbd",
   "metadata": {},
   "outputs": [],
   "source": [
    "os.environ['MODEL_NAME'] = 'simple'"
   ]
  },
  {
   "cell_type": "code",
   "execution_count": 119,
   "id": "104cbaae",
   "metadata": {},
   "outputs": [
    {
     "name": "stdout",
     "output_type": "stream",
     "text": [
      "Using endpoint [https://ml.googleapis.com/]\n",
      "Created ai platform model [projects/ultra-evening-318614/models/simple].\n"
     ]
    }
   ],
   "source": [
    "!gcloud ai-platform models create $MODEL_NAME --regions=$REGION"
   ]
  },
  {
   "cell_type": "code",
   "execution_count": 127,
   "id": "6d084f62",
   "metadata": {},
   "outputs": [
    {
     "name": "stderr",
     "output_type": "stream",
     "text": [
      "bash: line 1: OUTPUT_PATH: command not found\n",
      "Using endpoint [https://us-central1-ml.googleapis.com/]\n",
      "ERROR: (gcloud.ai-platform.versions.create) If --origin is provided as a local path, --staging-bucket must be given as well.\n"
     ]
    },
    {
     "ename": "CalledProcessError",
     "evalue": "Command 'b'OUTPUT_PATH = gs://$BUCKET_NAME/$JOB_ID\\nMODEL_BINARIES=output\\ngcloud ai-platform versions create v1 \\\\\\n    --model $MODEL_NAME \\\\\\n    --origin $MODEL_BINARIES \\\\\\n    --runtime-version $TFVERSION \\\\\\n    --python-version $PYTHONVERSION \\\\\\n    --region $REGION\\n'' returned non-zero exit status 1.",
     "output_type": "error",
     "traceback": [
      "\u001b[0;31m---------------------------------------------------------------------------\u001b[0m",
      "\u001b[0;31mCalledProcessError\u001b[0m                        Traceback (most recent call last)",
      "\u001b[0;32m/tmp/ipykernel_2898/145749812.py\u001b[0m in \u001b[0;36m<module>\u001b[0;34m\u001b[0m\n\u001b[0;32m----> 1\u001b[0;31m \u001b[0mget_ipython\u001b[0m\u001b[0;34m(\u001b[0m\u001b[0;34m)\u001b[0m\u001b[0;34m.\u001b[0m\u001b[0mrun_cell_magic\u001b[0m\u001b[0;34m(\u001b[0m\u001b[0;34m'bash'\u001b[0m\u001b[0;34m,\u001b[0m \u001b[0;34m''\u001b[0m\u001b[0;34m,\u001b[0m \u001b[0;34m'OUTPUT_PATH = gs://$BUCKET_NAME/$JOB_ID\\nMODEL_BINARIES=output\\ngcloud ai-platform versions create v1 \\\\\\n    --model $MODEL_NAME \\\\\\n    --origin $MODEL_BINARIES \\\\\\n    --runtime-version $TFVERSION \\\\\\n    --python-version $PYTHONVERSION \\\\\\n    --region $REGION\\n'\u001b[0m\u001b[0;34m)\u001b[0m\u001b[0;34m\u001b[0m\u001b[0;34m\u001b[0m\u001b[0m\n\u001b[0m",
      "\u001b[0;32m/opt/conda/lib/python3.7/site-packages/IPython/core/interactiveshell.py\u001b[0m in \u001b[0;36mrun_cell_magic\u001b[0;34m(self, magic_name, line, cell)\u001b[0m\n\u001b[1;32m   2401\u001b[0m             \u001b[0;32mwith\u001b[0m \u001b[0mself\u001b[0m\u001b[0;34m.\u001b[0m\u001b[0mbuiltin_trap\u001b[0m\u001b[0;34m:\u001b[0m\u001b[0;34m\u001b[0m\u001b[0;34m\u001b[0m\u001b[0m\n\u001b[1;32m   2402\u001b[0m                 \u001b[0margs\u001b[0m \u001b[0;34m=\u001b[0m \u001b[0;34m(\u001b[0m\u001b[0mmagic_arg_s\u001b[0m\u001b[0;34m,\u001b[0m \u001b[0mcell\u001b[0m\u001b[0;34m)\u001b[0m\u001b[0;34m\u001b[0m\u001b[0;34m\u001b[0m\u001b[0m\n\u001b[0;32m-> 2403\u001b[0;31m                 \u001b[0mresult\u001b[0m \u001b[0;34m=\u001b[0m \u001b[0mfn\u001b[0m\u001b[0;34m(\u001b[0m\u001b[0;34m*\u001b[0m\u001b[0margs\u001b[0m\u001b[0;34m,\u001b[0m \u001b[0;34m**\u001b[0m\u001b[0mkwargs\u001b[0m\u001b[0;34m)\u001b[0m\u001b[0;34m\u001b[0m\u001b[0;34m\u001b[0m\u001b[0m\n\u001b[0m\u001b[1;32m   2404\u001b[0m             \u001b[0;32mreturn\u001b[0m \u001b[0mresult\u001b[0m\u001b[0;34m\u001b[0m\u001b[0;34m\u001b[0m\u001b[0m\n\u001b[1;32m   2405\u001b[0m \u001b[0;34m\u001b[0m\u001b[0m\n",
      "\u001b[0;32m/opt/conda/lib/python3.7/site-packages/IPython/core/magics/script.py\u001b[0m in \u001b[0;36mnamed_script_magic\u001b[0;34m(line, cell)\u001b[0m\n\u001b[1;32m    140\u001b[0m             \u001b[0;32melse\u001b[0m\u001b[0;34m:\u001b[0m\u001b[0;34m\u001b[0m\u001b[0;34m\u001b[0m\u001b[0m\n\u001b[1;32m    141\u001b[0m                 \u001b[0mline\u001b[0m \u001b[0;34m=\u001b[0m \u001b[0mscript\u001b[0m\u001b[0;34m\u001b[0m\u001b[0;34m\u001b[0m\u001b[0m\n\u001b[0;32m--> 142\u001b[0;31m             \u001b[0;32mreturn\u001b[0m \u001b[0mself\u001b[0m\u001b[0;34m.\u001b[0m\u001b[0mshebang\u001b[0m\u001b[0;34m(\u001b[0m\u001b[0mline\u001b[0m\u001b[0;34m,\u001b[0m \u001b[0mcell\u001b[0m\u001b[0;34m)\u001b[0m\u001b[0;34m\u001b[0m\u001b[0;34m\u001b[0m\u001b[0m\n\u001b[0m\u001b[1;32m    143\u001b[0m \u001b[0;34m\u001b[0m\u001b[0m\n\u001b[1;32m    144\u001b[0m         \u001b[0;31m# write a basic docstring:\u001b[0m\u001b[0;34m\u001b[0m\u001b[0;34m\u001b[0m\u001b[0;34m\u001b[0m\u001b[0m\n",
      "\u001b[0;32m/opt/conda/lib/python3.7/site-packages/decorator.py\u001b[0m in \u001b[0;36mfun\u001b[0;34m(*args, **kw)\u001b[0m\n\u001b[1;32m    230\u001b[0m             \u001b[0;32mif\u001b[0m \u001b[0;32mnot\u001b[0m \u001b[0mkwsyntax\u001b[0m\u001b[0;34m:\u001b[0m\u001b[0;34m\u001b[0m\u001b[0;34m\u001b[0m\u001b[0m\n\u001b[1;32m    231\u001b[0m                 \u001b[0margs\u001b[0m\u001b[0;34m,\u001b[0m \u001b[0mkw\u001b[0m \u001b[0;34m=\u001b[0m \u001b[0mfix\u001b[0m\u001b[0;34m(\u001b[0m\u001b[0margs\u001b[0m\u001b[0;34m,\u001b[0m \u001b[0mkw\u001b[0m\u001b[0;34m,\u001b[0m \u001b[0msig\u001b[0m\u001b[0;34m)\u001b[0m\u001b[0;34m\u001b[0m\u001b[0;34m\u001b[0m\u001b[0m\n\u001b[0;32m--> 232\u001b[0;31m             \u001b[0;32mreturn\u001b[0m \u001b[0mcaller\u001b[0m\u001b[0;34m(\u001b[0m\u001b[0mfunc\u001b[0m\u001b[0;34m,\u001b[0m \u001b[0;34m*\u001b[0m\u001b[0;34m(\u001b[0m\u001b[0mextras\u001b[0m \u001b[0;34m+\u001b[0m \u001b[0margs\u001b[0m\u001b[0;34m)\u001b[0m\u001b[0;34m,\u001b[0m \u001b[0;34m**\u001b[0m\u001b[0mkw\u001b[0m\u001b[0;34m)\u001b[0m\u001b[0;34m\u001b[0m\u001b[0;34m\u001b[0m\u001b[0m\n\u001b[0m\u001b[1;32m    233\u001b[0m     \u001b[0mfun\u001b[0m\u001b[0;34m.\u001b[0m\u001b[0m__name__\u001b[0m \u001b[0;34m=\u001b[0m \u001b[0mfunc\u001b[0m\u001b[0;34m.\u001b[0m\u001b[0m__name__\u001b[0m\u001b[0;34m\u001b[0m\u001b[0;34m\u001b[0m\u001b[0m\n\u001b[1;32m    234\u001b[0m     \u001b[0mfun\u001b[0m\u001b[0;34m.\u001b[0m\u001b[0m__doc__\u001b[0m \u001b[0;34m=\u001b[0m \u001b[0mfunc\u001b[0m\u001b[0;34m.\u001b[0m\u001b[0m__doc__\u001b[0m\u001b[0;34m\u001b[0m\u001b[0;34m\u001b[0m\u001b[0m\n",
      "\u001b[0;32m/opt/conda/lib/python3.7/site-packages/IPython/core/magic.py\u001b[0m in \u001b[0;36m<lambda>\u001b[0;34m(f, *a, **k)\u001b[0m\n\u001b[1;32m    185\u001b[0m     \u001b[0;31m# but it's overkill for just that one bit of state.\u001b[0m\u001b[0;34m\u001b[0m\u001b[0;34m\u001b[0m\u001b[0;34m\u001b[0m\u001b[0m\n\u001b[1;32m    186\u001b[0m     \u001b[0;32mdef\u001b[0m \u001b[0mmagic_deco\u001b[0m\u001b[0;34m(\u001b[0m\u001b[0marg\u001b[0m\u001b[0;34m)\u001b[0m\u001b[0;34m:\u001b[0m\u001b[0;34m\u001b[0m\u001b[0;34m\u001b[0m\u001b[0m\n\u001b[0;32m--> 187\u001b[0;31m         \u001b[0mcall\u001b[0m \u001b[0;34m=\u001b[0m \u001b[0;32mlambda\u001b[0m \u001b[0mf\u001b[0m\u001b[0;34m,\u001b[0m \u001b[0;34m*\u001b[0m\u001b[0ma\u001b[0m\u001b[0;34m,\u001b[0m \u001b[0;34m**\u001b[0m\u001b[0mk\u001b[0m\u001b[0;34m:\u001b[0m \u001b[0mf\u001b[0m\u001b[0;34m(\u001b[0m\u001b[0;34m*\u001b[0m\u001b[0ma\u001b[0m\u001b[0;34m,\u001b[0m \u001b[0;34m**\u001b[0m\u001b[0mk\u001b[0m\u001b[0;34m)\u001b[0m\u001b[0;34m\u001b[0m\u001b[0;34m\u001b[0m\u001b[0m\n\u001b[0m\u001b[1;32m    188\u001b[0m \u001b[0;34m\u001b[0m\u001b[0m\n\u001b[1;32m    189\u001b[0m         \u001b[0;32mif\u001b[0m \u001b[0mcallable\u001b[0m\u001b[0;34m(\u001b[0m\u001b[0marg\u001b[0m\u001b[0;34m)\u001b[0m\u001b[0;34m:\u001b[0m\u001b[0;34m\u001b[0m\u001b[0;34m\u001b[0m\u001b[0m\n",
      "\u001b[0;32m/opt/conda/lib/python3.7/site-packages/IPython/core/magics/script.py\u001b[0m in \u001b[0;36mshebang\u001b[0;34m(self, line, cell)\u001b[0m\n\u001b[1;32m    243\u001b[0m             \u001b[0msys\u001b[0m\u001b[0;34m.\u001b[0m\u001b[0mstderr\u001b[0m\u001b[0;34m.\u001b[0m\u001b[0mflush\u001b[0m\u001b[0;34m(\u001b[0m\u001b[0;34m)\u001b[0m\u001b[0;34m\u001b[0m\u001b[0;34m\u001b[0m\u001b[0m\n\u001b[1;32m    244\u001b[0m         \u001b[0;32mif\u001b[0m \u001b[0margs\u001b[0m\u001b[0;34m.\u001b[0m\u001b[0mraise_error\u001b[0m \u001b[0;32mand\u001b[0m \u001b[0mp\u001b[0m\u001b[0;34m.\u001b[0m\u001b[0mreturncode\u001b[0m\u001b[0;34m!=\u001b[0m\u001b[0;36m0\u001b[0m\u001b[0;34m:\u001b[0m\u001b[0;34m\u001b[0m\u001b[0;34m\u001b[0m\u001b[0m\n\u001b[0;32m--> 245\u001b[0;31m             \u001b[0;32mraise\u001b[0m \u001b[0mCalledProcessError\u001b[0m\u001b[0;34m(\u001b[0m\u001b[0mp\u001b[0m\u001b[0;34m.\u001b[0m\u001b[0mreturncode\u001b[0m\u001b[0;34m,\u001b[0m \u001b[0mcell\u001b[0m\u001b[0;34m,\u001b[0m \u001b[0moutput\u001b[0m\u001b[0;34m=\u001b[0m\u001b[0mout\u001b[0m\u001b[0;34m,\u001b[0m \u001b[0mstderr\u001b[0m\u001b[0;34m=\u001b[0m\u001b[0merr\u001b[0m\u001b[0;34m)\u001b[0m\u001b[0;34m\u001b[0m\u001b[0;34m\u001b[0m\u001b[0m\n\u001b[0m\u001b[1;32m    246\u001b[0m \u001b[0;34m\u001b[0m\u001b[0m\n\u001b[1;32m    247\u001b[0m     \u001b[0;32mdef\u001b[0m \u001b[0m_run_script\u001b[0m\u001b[0;34m(\u001b[0m\u001b[0mself\u001b[0m\u001b[0;34m,\u001b[0m \u001b[0mp\u001b[0m\u001b[0;34m,\u001b[0m \u001b[0mcell\u001b[0m\u001b[0;34m,\u001b[0m \u001b[0mto_close\u001b[0m\u001b[0;34m)\u001b[0m\u001b[0;34m:\u001b[0m\u001b[0;34m\u001b[0m\u001b[0;34m\u001b[0m\u001b[0m\n",
      "\u001b[0;31mCalledProcessError\u001b[0m: Command 'b'OUTPUT_PATH = gs://$BUCKET_NAME/$JOB_ID\\nMODEL_BINARIES=output\\ngcloud ai-platform versions create v1 \\\\\\n    --model $MODEL_NAME \\\\\\n    --origin $MODEL_BINARIES \\\\\\n    --runtime-version $TFVERSION \\\\\\n    --python-version $PYTHONVERSION \\\\\\n    --region $REGION\\n'' returned non-zero exit status 1."
     ]
    }
   ],
   "source": [
    "# %%bash\n",
    "# OUTPUT_PATH = gs://$BUCKET_NAME/$JOB_ID\n",
    "# MODEL_BINARIES=output\n",
    "# gcloud ai-platform versions create v1 \\\n",
    "#     --model $MODEL_NAME \\\n",
    "#     --origin $MODEL_BINARIES \\\n",
    "#     --runtime-version $TFVERSION \\\n",
    "#     --python-version $PYTHONVERSION \\\n",
    "#     --region $REGION"
   ]
  },
  {
   "cell_type": "code",
   "execution_count": 123,
   "id": "945d8a0c",
   "metadata": {},
   "outputs": [
    {
     "name": "stdout",
     "output_type": "stream",
     "text": [
      "gs://ultra-evening-318614-aiplatform/simple_20210726173544/packages/09d145938aea37247d6b3585292c6433b0ea50571e492d4a70db96b0aefb5c17/\n"
     ]
    }
   ],
   "source": [
    "!gsutil ls gs://$BUCKET_NAME/$JOB_ID/packages"
   ]
  }
 ],
 "metadata": {
  "environment": {
   "name": "tf2-gpu.2-5.m75",
   "type": "gcloud",
   "uri": "gcr.io/deeplearning-platform-release/tf2-gpu.2-5:m75"
  },
  "kernelspec": {
   "display_name": "Python 3",
   "language": "python",
   "name": "python3"
  },
  "language_info": {
   "codemirror_mode": {
    "name": "ipython",
    "version": 3
   },
   "file_extension": ".py",
   "mimetype": "text/x-python",
   "name": "python",
   "nbconvert_exporter": "python",
   "pygments_lexer": "ipython3",
   "version": "3.7.10"
  }
 },
 "nbformat": 4,
 "nbformat_minor": 5
}
