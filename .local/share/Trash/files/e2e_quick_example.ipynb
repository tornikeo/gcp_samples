{
 "cells": [
  {
   "cell_type": "code",
   "execution_count": 10,
   "id": "c6de0f7b",
   "metadata": {},
   "outputs": [],
   "source": [
    "import tensorflow as tf\n",
    "from tensorflow import keras\n",
    "from tensorflow.keras import layers"
   ]
  },
  {
   "cell_type": "code",
   "execution_count": 11,
   "id": "d93e8829",
   "metadata": {},
   "outputs": [],
   "source": [
    "import pandas as pd\n",
    "import numpy as np\n",
    "from matplotlib import pyplot as plt"
   ]
  },
  {
   "cell_type": "code",
   "execution_count": 12,
   "id": "8cccf9ec",
   "metadata": {},
   "outputs": [
    {
     "name": "stdout",
     "output_type": "stream",
     "text": [
      "gs://cloud-samples-data/ai-platform/mnist/t10k-images-idx3-ubyte\n",
      "gs://cloud-samples-data/ai-platform/mnist/t10k-images-idx3-ubyte.gz\n",
      "gs://cloud-samples-data/ai-platform/mnist/t10k-labels-idx1-ubyte\n",
      "gs://cloud-samples-data/ai-platform/mnist/t10k-labels-idx1-ubyte.gz\n",
      "gs://cloud-samples-data/ai-platform/mnist/train-images-idx3-ubyte\n",
      "gs://cloud-samples-data/ai-platform/mnist/train-images-idx3-ubyte.gz\n",
      "gs://cloud-samples-data/ai-platform/mnist/train-labels-idx1-ubyte\n",
      "gs://cloud-samples-data/ai-platform/mnist/train-labels-idx1-ubyte.gz\n"
     ]
    }
   ],
   "source": [
    "!gsutil ls gs://cloud-samples-data/ai-platform/mnist"
   ]
  },
  {
   "cell_type": "code",
   "execution_count": 15,
   "id": "973609d2",
   "metadata": {},
   "outputs": [
    {
     "name": "stdout",
     "output_type": "stream",
     "text": [
      "/home/jupyter\n"
     ]
    }
   ],
   "source": [
    "!pwd"
   ]
  },
  {
   "cell_type": "code",
   "execution_count": 16,
   "id": "78488779",
   "metadata": {},
   "outputs": [
    {
     "name": "stdout",
     "output_type": "stream",
     "text": [
      "mkdir: cannot create directory ‘data’: File exists\n"
     ]
    }
   ],
   "source": [
    "!mkdir data"
   ]
  }
 ],
 "metadata": {
  "environment": {
   "name": "tf2-gpu.2-5.m75",
   "type": "gcloud",
   "uri": "gcr.io/deeplearning-platform-release/tf2-gpu.2-5:m75"
  },
  "kernelspec": {
   "display_name": "Python 3",
   "language": "python",
   "name": "python3"
  },
  "language_info": {
   "codemirror_mode": {
    "name": "ipython",
    "version": 3
   },
   "file_extension": ".py",
   "mimetype": "text/x-python",
   "name": "python",
   "nbconvert_exporter": "python",
   "pygments_lexer": "ipython3",
   "version": "3.7.10"
  }
 },
 "nbformat": 4,
 "nbformat_minor": 5
}
