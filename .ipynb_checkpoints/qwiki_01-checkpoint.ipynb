{
 "cells": [],
 "metadata": {
  "environment": {
   "name": "tf2-gpu.2-5.m75",
   "type": "gcloud",
   "uri": "gcr.io/deeplearning-platform-release/tf2-gpu.2-5:m75"
  }
 },
 "nbformat": 4,
 "nbformat_minor": 5
}
